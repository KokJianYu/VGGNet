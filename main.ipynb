{
 "cells": [
  {
   "cell_type": "code",
   "execution_count": 1,
   "metadata": {},
   "outputs": [],
   "source": [
    "import torch\n",
    "import matplotlib.pyplot as plt\n",
    "import torchvision\n",
    "from torchvision import datasets, transforms\n",
    "import numpy as np"
   ]
  },
  {
   "cell_type": "code",
   "execution_count": 2,
   "metadata": {},
   "outputs": [],
   "source": [
    "# Code to display progress bar\n",
    "def log_progress(sequence, every=None, size=None, name='Items'):\n",
    "    from ipywidgets import IntProgress, HTML, VBox\n",
    "    from IPython.display import display\n",
    "\n",
    "    is_iterator = False\n",
    "    if size is None:\n",
    "        try:\n",
    "            size = len(sequence)\n",
    "        except TypeError:\n",
    "            is_iterator = True\n",
    "    if size is not None:\n",
    "        if every is None:\n",
    "            if size <= 200:\n",
    "                every = 1\n",
    "            else:\n",
    "                every = int(size / 200)     # every 0.5%\n",
    "    else:\n",
    "        assert every is not None, 'sequence is iterator, set every'\n",
    "\n",
    "    if is_iterator:\n",
    "        progress = IntProgress(min=0, max=1, value=1)\n",
    "        progress.bar_style = 'info'\n",
    "    else:\n",
    "        progress = IntProgress(min=0, max=size, value=0)\n",
    "    label = HTML()\n",
    "    box = VBox(children=[label, progress])\n",
    "    display(box)\n",
    "\n",
    "    index = 0\n",
    "    try:\n",
    "        for index, record in enumerate(sequence, 1):\n",
    "            if index == 1 or index % every == 0:\n",
    "                if is_iterator:\n",
    "                    label.value = '{name}: {index} / ?'.format(\n",
    "                        name=name,\n",
    "                        index=index\n",
    "                    )\n",
    "                else:\n",
    "                    progress.value = index\n",
    "                    label.value = u'{name}: {index} / {size}'.format(\n",
    "                        name=name,\n",
    "                        index=index,\n",
    "                        size=size\n",
    "                    )\n",
    "            yield record\n",
    "    except:\n",
    "        progress.bar_style = 'danger'\n",
    "        raise\n",
    "    else:\n",
    "        progress.bar_style = 'success'\n",
    "        progress.value = index\n",
    "        label.value = \"{name}: {index}\".format(\n",
    "            name=name,\n",
    "            index=str(index or '?')\n",
    "        )"
   ]
  },
  {
   "cell_type": "code",
   "execution_count": 3,
   "metadata": {},
   "outputs": [],
   "source": [
    "# Check if GPU avaiable\n",
    "if torch.cuda.is_available():\n",
    "    device = torch.device(\"cuda\")\n",
    "else:\n",
    "    device = torch.device(\"cpu\")\n"
   ]
  },
  {
   "cell_type": "code",
   "execution_count": 4,
   "metadata": {},
   "outputs": [
    {
     "name": "stdout",
     "output_type": "stream",
     "text": [
      "Files already downloaded and verified\n",
      "Files already downloaded and verified\n",
      "40000 10000 10000\n"
     ]
    }
   ],
   "source": [
    "from torch.utils.data import DataLoader\n",
    "# Initialize dataset\n",
    "# Using Cifar100\n",
    "DATA_PATH = \"./data\"\n",
    "\n",
    "s_min = 256\n",
    "s_max = 512\n",
    "batch_size = 256\n",
    "\n",
    "q = 224\n",
    "\n",
    "CIFAR10_TRAIN_MEAN = (0.5,0.5,0.5)#[0.5070751592371323, 0.48654887331495095, 0.4409178433670343]\n",
    "CIFAR10_TRAIN_STD = (0.5,0.5,0.5)#[0.2673342858792401, 0.2564384629170883, 0.27615047132568404]\n",
    "\n",
    "def augmentHorizontalFlip(image):\n",
    "    return (image, transforms.functional.hflip(image))\n",
    "\n",
    "def stackToTensor(images):\n",
    "    return torch.stack([transforms.ToTensor()(image) for image in images])\n",
    "    \n",
    "def stackNormalize(images):\n",
    "    return torch.stack([transforms.Normalize(mean=CIFAR10_TRAIN_MEAN, std=CIFAR10_TRAIN_STD)(image) for image in images])\n",
    "    \n",
    "    \n",
    "train_transform = transforms.Compose([\n",
    "    transforms.RandomHorizontalFlip(),\n",
    "    transforms.RandomCrop(32, 4),\n",
    "    transforms.ToTensor(),\n",
    "    transforms.Normalize(mean=CIFAR10_TRAIN_MEAN, std=CIFAR10_TRAIN_STD),\n",
    "    # TODO: add Fancy PCA in https://papers.nips.cc/paper/4824-imagenet-classification-with-deep-convolutional-neural-networks.pdf\n",
    "    # https://pixelatedbrian.github.io/2018-04-29-fancy_pca/\n",
    "    \n",
    "])\n",
    "test_transform = transforms.Compose([\n",
    "    transforms.Lambda(augmentHorizontalFlip),\n",
    "    transforms.Lambda(stackToTensor),\n",
    "    transforms.Lambda(stackNormalize),\n",
    "])\n",
    "\n",
    "train_dataset = datasets.CIFAR10(f\"{DATA_PATH}\", train=True, transform=train_transform, download=True)\n",
    "test_dataset = datasets.CIFAR10(f\"{DATA_PATH}\", train=False, transform=test_transform, download=True)\n",
    "\n",
    "# Train and validation split\n",
    "train_size = int(0.8 * len(train_dataset))\n",
    "val_size = len(train_dataset) - train_size\n",
    "train_dataset, val_dataset = torch.utils.data.random_split(train_dataset, [train_size, val_size])\n",
    "\n",
    "train_loader = DataLoader(dataset=train_dataset, batch_size=batch_size, shuffle=True)\n",
    "val_loader = DataLoader(dataset=val_dataset, batch_size=batch_size, shuffle=True)\n",
    "test_loader = DataLoader(dataset=test_dataset, batch_size=batch_size, shuffle=False)\n",
    "\n",
    "print(train_size, val_size, len(test_dataset))"
   ]
  },
  {
   "cell_type": "code",
   "execution_count": null,
   "metadata": {},
   "outputs": [
    {
     "name": "stderr",
     "output_type": "stream",
     "text": [
      "Clipping input data to the valid range for imshow with RGB data ([0..1] for floats or [0..255] for integers).\n"
     ]
    },
    {
     "data": {
      "image/png": "[encoded data removed]",
      "text/plain": [
       "<Figure size 432x288 with 1 Axes>"
      ]
     },
     "metadata": {
      "needs_background": "light"
     },
     "output_type": "display_data"
    }
   ],
   "source": [
    "def imshow(img):\n",
    "    # img = img / 2 + 0.5  # Un-normalize your image here\n",
    "    npimg = img.numpy()\n",
    "    plt.imshow(np.transpose(npimg, (1,2,0)))\n",
    "    plt.show()\n",
    "\n",
    "dataiter = iter(train_loader)\n",
    "images, labels = dataiter.next()\n",
    "\n",
    "imshow(torchvision.utils.make_grid(images))"
   ]
  },
  {
   "cell_type": "code",
   "execution_count": null,
   "metadata": {},
   "outputs": [],
   "source": [
    "from vggnet import VGGNet\n",
    "\n",
    "vggnet = VGGNet(\"vgg11\", num_classes=10).to(device)\n",
    "optim = torch.optim.Adam(vggnet.parameters(), lr=0.01)\n",
    "scheduler = torch.optim.lr_scheduler.ReduceLROnPlateau(optim, patience=5)\n",
    "criterion = torch.nn.CrossEntropyLoss()"
   ]
  },
  {
   "cell_type": "code",
   "execution_count": null,
   "metadata": {},
   "outputs": [],
   "source": [
    "optim = torch.optim.Adam(vggnet.parameters(), lr=0.01)\n",
    "scheduler = torch.optim.lr_scheduler.ReduceLROnPlateau(optim, patience=2)"
   ]
  },
  {
   "cell_type": "code",
   "execution_count": null,
   "metadata": {
    "scrolled": true
   },
   "outputs": [
    {
     "data": {
      "text/plain": [
       "VGGNet(\n",
       "  (net): Sequential(\n",
       "    (0): Conv2d(3, 64, kernel_size=(3, 3), stride=(1, 1), padding=(1, 1))\n",
       "    (1): ReLU()\n",
       "    (2): BatchNorm2d(64, eps=1e-05, momentum=0.1, affine=True, track_running_stats=True)\n",
       "    (3): MaxPool2d(kernel_size=2, stride=2, padding=0, dilation=1, ceil_mode=False)\n",
       "    (4): Conv2d(64, 128, kernel_size=(3, 3), stride=(1, 1), padding=(1, 1))\n",
       "    (5): ReLU()\n",
       "    (6): BatchNorm2d(128, eps=1e-05, momentum=0.1, affine=True, track_running_stats=True)\n",
       "    (7): MaxPool2d(kernel_size=2, stride=2, padding=0, dilation=1, ceil_mode=False)\n",
       "    (8): Conv2d(128, 256, kernel_size=(3, 3), stride=(1, 1), padding=(1, 1))\n",
       "    (9): ReLU()\n",
       "    (10): BatchNorm2d(256, eps=1e-05, momentum=0.1, affine=True, track_running_stats=True)\n",
       "    (11): Conv2d(256, 256, kernel_size=(3, 3), stride=(1, 1), padding=(1, 1))\n",
       "    (12): ReLU()\n",
       "    (13): BatchNorm2d(256, eps=1e-05, momentum=0.1, affine=True, track_running_stats=True)\n",
       "    (14): MaxPool2d(kernel_size=2, stride=2, padding=0, dilation=1, ceil_mode=False)\n",
       "    (15): Conv2d(256, 512, kernel_size=(3, 3), stride=(1, 1), padding=(1, 1))\n",
       "    (16): ReLU()\n",
       "    (17): BatchNorm2d(512, eps=1e-05, momentum=0.1, affine=True, track_running_stats=True)\n",
       "    (18): Conv2d(512, 512, kernel_size=(3, 3), stride=(1, 1), padding=(1, 1))\n",
       "    (19): ReLU()\n",
       "    (20): BatchNorm2d(512, eps=1e-05, momentum=0.1, affine=True, track_running_stats=True)\n",
       "    (21): MaxPool2d(kernel_size=2, stride=2, padding=0, dilation=1, ceil_mode=False)\n",
       "    (22): Conv2d(512, 512, kernel_size=(3, 3), stride=(1, 1), padding=(1, 1))\n",
       "    (23): ReLU()\n",
       "    (24): BatchNorm2d(512, eps=1e-05, momentum=0.1, affine=True, track_running_stats=True)\n",
       "    (25): Conv2d(512, 512, kernel_size=(3, 3), stride=(1, 1), padding=(1, 1))\n",
       "    (26): ReLU()\n",
       "    (27): BatchNorm2d(512, eps=1e-05, momentum=0.1, affine=True, track_running_stats=True)\n",
       "    (28): MaxPool2d(kernel_size=2, stride=2, padding=0, dilation=1, ceil_mode=False)\n",
       "  )\n",
       "  (classifier): Sequential(\n",
       "    (0): Dropout(p=0.5, inplace=False)\n",
       "    (1): Linear(in_features=512, out_features=512, bias=True)\n",
       "    (2): ReLU()\n",
       "    (3): Dropout(p=0.5, inplace=False)\n",
       "    (4): Linear(in_features=512, out_features=512, bias=True)\n",
       "    (5): ReLU()\n",
       "    (6): Linear(in_features=512, out_features=10, bias=True)\n",
       "  )\n",
       ")"
      ]
     },
     "execution_count": 8,
     "metadata": {},
     "output_type": "execute_result"
    }
   ],
   "source": [
    "vggnet"
   ]
  },
  {
   "cell_type": "code",
   "execution_count": null,
   "metadata": {},
   "outputs": [
    {
     "name": "stdout",
     "output_type": "stream",
     "text": [
      "Loading save model\n",
      "Model loaded successfully\n"
     ]
    }
   ],
   "source": [
    "import os.path\n",
    "\n",
    "MODEL_PATH = \"models/vgg.pth\"\n",
    "if os.path.isfile(MODEL_PATH):\n",
    "    print(\"Loading save model\")\n",
    "    if torch.cuda.is_available():\n",
    "        vggnet.load_state_dict(torch.load(MODEL_PATH))\n",
    "    else:\n",
    "        vggnet.load_state_dict(torch.load(MODEL_PATH,map_location=torch.device('cpu')))\n",
    "    print(\"Model loaded successfully\")\n",
    "else:\n",
    "    print(\"Model not found\")"
   ]
  },
  {
   "cell_type": "code",
   "execution_count": null,
   "metadata": {
    "scrolled": true
   },
   "outputs": [
    {
     "name": "stdout",
     "output_type": "stream",
     "text": [
      "Epoch 1 LR = 0.01 Training Loss: 1.0660553554534913, Validation Loss: 60844.79318114319, Time Taken: 33.73297667503357 \n",
      "Epoch 2 LR = 0.01 Training Loss: 1.2747324131011963, Validation Loss: 1.187792530822754, Time Taken: 35.90968036651611 \n",
      "Epoch 3 LR = 0.01 Training Loss: 1.1053615249633788, Validation Loss: 0.9812660079956055, Time Taken: 34.71999955177307 \n",
      "Epoch 4 LR = 0.01 Training Loss: 0.991886198425293, Validation Loss: 0.9530680801391601, Time Taken: 34.634029388427734 \n",
      "Epoch 5 LR = 0.01 Training Loss: 1.045167357635498, Validation Loss: 1.0787330322265625, Time Taken: 34.542996644973755 \n",
      "Epoch 6 LR = 0.01 Training Loss: 1.0733932174682617, Validation Loss: 1.201576039123535, Time Taken: 34.46459627151489 \n",
      "Epoch 7 LR = 0.01 Training Loss: 0.9386658794403077, Validation Loss: 7871.887052738953, Time Taken: 34.61903476715088 \n",
      "Epoch 8 LR = 0.001 Training Loss: 0.8051260204315186, Validation Loss: 1.0822416877746581, Time Taken: 34.76352882385254 \n",
      "Epoch 9 LR = 0.001 Training Loss: 0.7483172367095947, Validation Loss: 0.8584992904663086, Time Taken: 34.73172569274902 \n",
      "Epoch 10 LR = 0.001 Training Loss: 0.7652855293273926, Validation Loss: 0.750316064453125, Time Taken: 34.55411458015442 \n",
      "Epoch 11 LR = 0.001 Training Loss: 0.7205533248901367, Validation Loss: 0.7538181167602539, Time Taken: 34.64835524559021 \n",
      "Epoch 12 LR = 0.001 Training Loss: 0.6975606479644776, Validation Loss: 0.7577170852661133, Time Taken: 34.741007566452026 \n",
      "Epoch 13 LR = 0.001 Training Loss: 0.6809554496765137, Validation Loss: 0.7663869094848633, Time Taken: 34.42529368400574 \n",
      "Epoch 14 LR = 0.0001 Training Loss: 0.6733853363037109, Validation Loss: 0.7226342788696289, Time Taken: 30.79848575592041 \n",
      "Epoch 15 LR = 0.0001 Training Loss: 0.6719601036071777, Validation Loss: 0.7430390121459961, Time Taken: 30.80499839782715 \n",
      "Epoch 16 LR = 0.0001 Training Loss: 0.671692957496643, Validation Loss: 0.7110254165649414, Time Taken: 30.840036153793335 \n",
      "Epoch 17 LR = 0.0001 Training Loss: 0.6600074993133545, Validation Loss: 0.7110752281188965, Time Taken: 30.585123777389526 \n",
      "Epoch 18 LR = 0.0001 Training Loss: 0.6631236114501953, Validation Loss: 0.7272992080688476, Time Taken: 30.615999698638916 \n",
      "Epoch 19 LR = 0.0001 Training Loss: 0.6625138521194458, Validation Loss: 1.0164949142456055, Time Taken: 30.58301615715027 \n",
      "Epoch 20 LR = 1e-05 Training Loss: 0.6661982259750366, Validation Loss: 0.7165887069702148, Time Taken: 30.861088752746582 \n",
      "Epoch 21 LR = 1e-05 Training Loss: 0.6603416091918946, Validation Loss: 0.9190973999023437, Time Taken: 31.188724517822266 \n",
      "Epoch 22 LR = 1e-05 Training Loss: 0.6593256526947021, Validation Loss: 0.7123963592529297, Time Taken: 30.999423503875732 \n",
      "Epoch 23 LR = 1.0000000000000002e-06 Training Loss: 0.6613830177307128, Validation Loss: 0.7371300186157227, Time Taken: 30.959336757659912 \n",
      "Epoch 24 LR = 1.0000000000000002e-06 Training Loss: 0.66260657081604, Validation Loss: 0.7188439826965332, Time Taken: 31.212056398391724 \n",
      "Epoch 25 LR = 1.0000000000000002e-06 Training Loss: 0.6553155334472657, Validation Loss: 0.7350689163208007, Time Taken: 31.55608296394348 \n",
      "Epoch 26 LR = 1.0000000000000002e-07 Training Loss: 0.6569606672286987, Validation Loss: 0.7136639465332031, Time Taken: 31.31898522377014 \n",
      "Epoch 27 LR = 1.0000000000000002e-07 Training Loss: 0.6575387977600098, Validation Loss: 0.7031918716430664, Time Taken: 31.3440580368042 \n",
      "Epoch 28 LR = 1.0000000000000002e-07 Training Loss: 0.6581132785797119, Validation Loss: 0.7444161964416504, Time Taken: 31.204008102416992 \n",
      "Epoch 29 LR = 1.0000000000000002e-07 Training Loss: 0.6611813594818116, Validation Loss: 0.7030262420654297, Time Taken: 31.00979232788086 \n",
      "Epoch 30 LR = 1.0000000000000002e-07 Training Loss: 0.6607767848968505, Validation Loss: 0.7285312149047851, Time Taken: 30.987828493118286 \n",
      "Epoch 31 LR = 1.0000000000000002e-07 "
     ]
    }
   ],
   "source": [
    "# Training code\n",
    "\n",
    "import time\n",
    "num_epochs = 50\n",
    "for epoch in range(num_epochs):\n",
    "    print(f\"Epoch {epoch + 1} \", end=\"\")\n",
    "    \n",
    "    for param_group in optim.param_groups:\n",
    "        print(f\"LR = {param_group['lr']} \", end=\"\")\n",
    "    if epoch % 5 == 4:\n",
    "        torch.save(vggnet.state_dict(), f\"models/vgg.pth\")\n",
    "    \n",
    "    running_loss = 0.0\n",
    "    t0 = time.time()\n",
    "    vggnet.train()\n",
    "    for i, data in enumerate((train_loader)):\n",
    "        # Switch to training mode\n",
    "        \n",
    "        inputs, labels = data\n",
    "        inputs = inputs.to(device)\n",
    "        labels = labels.to(device)\n",
    "        optim.zero_grad()\n",
    "        outputs = vggnet(inputs)\n",
    "        \n",
    "        # Backwards propagation\n",
    "        loss = criterion(outputs, labels)\n",
    "        loss.backward()\n",
    "        optim.step()\n",
    "        \n",
    "        running_loss += loss.item()\n",
    "    \n",
    "    \n",
    "    val_loss = 0.0\n",
    "    with torch.no_grad():\n",
    "        vggnet.eval()\n",
    "        for i,data in enumerate(val_loader):\n",
    "            \n",
    "            inputs, labels = data\n",
    "            inputs = inputs.to(device)\n",
    "            labels = labels.to(device)\n",
    "            optim.zero_grad()\n",
    "            outputs = vggnet(inputs)\n",
    "            # Backwards propagation\n",
    "            loss = criterion(outputs, labels)\n",
    "\n",
    "            val_loss += loss.item()\n",
    "        \n",
    "        prev_val_loss = val_loss\n",
    "        t1 = time.time()\n",
    "        time_total = t1-t0\n",
    "    avg_val_loss = val_loss / (val_size/batch_size)\n",
    "    avg_training_loss = running_loss / (train_size/batch_size)\n",
    "    scheduler.step(avg_val_loss)\n",
    "    print(f\"Training Loss: {avg_training_loss}, Validation Loss: {avg_val_loss}, Time Taken: {time_total} \")\n",
    "\n",
    "        \n",
    "print(\"Training concluded\")\n"
   ]
  },
  {
   "cell_type": "code",
   "execution_count": null,
   "metadata": {},
   "outputs": [],
   "source": [
    "#TODO: Test model\n",
    "vggnet.eval()\n",
    "\n",
    "total = 0\n",
    "correct = 0\n",
    "with torch.no_grad():\n",
    "    for data in log_progress(test_loader):\n",
    "        inputs, labels = data\n",
    "        bs, n_img, c, h, w = inputs.size()\n",
    "        inputs = inputs.view(-1, c, h, w).to(device)\n",
    "        labels = labels.to(device)\n",
    "        \n",
    "        outputs = vggnet(inputs)\n",
    "        # outputs = torch.mean(outputs, dim=[2,3])\n",
    "        outputs = outputs.view(bs, n_img, -1).mean(1)\n",
    "        _, predicted = torch.max(outputs.data, 1)\n",
    "        total += labels.size(0)\n",
    "        correct += (predicted == labels).sum().item()\n",
    "\n",
    "print('Accuracy of the network on the test images: %d %%' % (100 * correct / total))"
   ]
  },
  {
   "cell_type": "code",
   "execution_count": null,
   "metadata": {},
   "outputs": [],
   "source": []
  }
 ],
 "metadata": {
  "file_extension": ".py",
  "kernelspec": {
   "display_name": "Python 3",
   "language": "python",
   "name": "python3"
  },
  "language_info": {
   "codemirror_mode": {
    "name": "ipython",
    "version": 3
   },
   "file_extension": ".py",
   "mimetype": "text/x-python",
   "name": "python",
   "nbconvert_exporter": "python",
   "pygments_lexer": "ipython3",
   "version": "3.7.1"
  },
  "mimetype": "text/x-python",
  "name": "python",
  "npconvert_exporter": "python",
  "pygments_lexer": "ipython3",
  "version": 3
 },
 "nbformat": 4,
 "nbformat_minor": 2
}
