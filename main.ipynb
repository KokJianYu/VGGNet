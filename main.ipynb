{
 "cells": [
  {
   "cell_type": "code",
   "execution_count": 1,
   "metadata": {},
   "outputs": [],
   "source": [
    "import torch\n",
    "import matplotlib.pyplot as plt\n",
    "import torchvision\n",
    "from torchvision import datasets, transforms\n",
    "import numpy as np"
   ]
  },
  {
   "cell_type": "code",
   "execution_count": 2,
   "metadata": {},
   "outputs": [],
   "source": [
    "# Code to display progress bar\n",
    "def log_progress(sequence, every=None, size=None, name='Items'):\n",
    "    from ipywidgets import IntProgress, HTML, VBox\n",
    "    from IPython.display import display\n",
    "\n",
    "    is_iterator = False\n",
    "    if size is None:\n",
    "        try:\n",
    "            size = len(sequence)\n",
    "        except TypeError:\n",
    "            is_iterator = True\n",
    "    if size is not None:\n",
    "        if every is None:\n",
    "            if size <= 200:\n",
    "                every = 1\n",
    "            else:\n",
    "                every = int(size / 200)     # every 0.5%\n",
    "    else:\n",
    "        assert every is not None, 'sequence is iterator, set every'\n",
    "\n",
    "    if is_iterator:\n",
    "        progress = IntProgress(min=0, max=1, value=1)\n",
    "        progress.bar_style = 'info'\n",
    "    else:\n",
    "        progress = IntProgress(min=0, max=size, value=0)\n",
    "    label = HTML()\n",
    "    box = VBox(children=[label, progress])\n",
    "    display(box)\n",
    "\n",
    "    index = 0\n",
    "    try:\n",
    "        for index, record in enumerate(sequence, 1):\n",
    "            if index == 1 or index % every == 0:\n",
    "                if is_iterator:\n",
    "                    label.value = '{name}: {index} / ?'.format(\n",
    "                        name=name,\n",
    "                        index=index\n",
    "                    )\n",
    "                else:\n",
    "                    progress.value = index\n",
    "                    label.value = u'{name}: {index} / {size}'.format(\n",
    "                        name=name,\n",
    "                        index=index,\n",
    "                        size=size\n",
    "                    )\n",
    "            yield record\n",
    "    except:\n",
    "        progress.bar_style = 'danger'\n",
    "        raise\n",
    "    else:\n",
    "        progress.bar_style = 'success'\n",
    "        progress.value = index\n",
    "        label.value = \"{name}: {index}\".format(\n",
    "            name=name,\n",
    "            index=str(index or '?')\n",
    "        )"
   ]
  },
  {
   "cell_type": "code",
   "execution_count": 3,
   "metadata": {},
   "outputs": [],
   "source": [
    "# Check if GPU avaiable\n",
    "if torch.cuda.is_available():\n",
    "    device = torch.device(\"cuda\")\n",
    "else:\n",
    "    device = torch.device(\"cpu\")\n"
   ]
  },
  {
   "cell_type": "code",
   "execution_count": 4,
   "metadata": {},
   "outputs": [
    {
     "name": "stdout",
     "output_type": "stream",
     "text": [
      "Files already downloaded and verified\n",
      "Files already downloaded and verified\n",
      "40000 10000 10000\n"
     ]
    }
   ],
   "source": [
    "from torch.utils.data import DataLoader\n",
    "# Initialize dataset\n",
    "# Using Cifar100\n",
    "DATA_PATH = \"./data\"\n",
    "\n",
    "s_min = 256\n",
    "s_max = 512\n",
    "batch_size = 256\n",
    "\n",
    "q = 224\n",
    "\n",
    "CIFAR10_TRAIN_MEAN = (0.5,0.5,0.5)#[0.5070751592371323, 0.48654887331495095, 0.4409178433670343]\n",
    "CIFAR10_TRAIN_STD = (0.5,0.5,0.5)#[0.2673342858792401, 0.2564384629170883, 0.27615047132568404]\n",
    "\n",
    "def augmentHorizontalFlip(image):\n",
    "    return (image, transforms.functional.hflip(image))\n",
    "\n",
    "def stackToTensor(images):\n",
    "    return torch.stack([transforms.ToTensor()(image) for image in images])\n",
    "    \n",
    "def stackNormalize(images):\n",
    "    return torch.stack([transforms.Normalize(mean=CIFAR10_TRAIN_MEAN, std=CIFAR10_TRAIN_STD)(image) for image in images])\n",
    "    \n",
    "    \n",
    "train_transform = transforms.Compose([\n",
    "    transforms.RandomHorizontalFlip(),\n",
    "    transforms.RandomCrop(32, 4),\n",
    "    transforms.ToTensor(),\n",
    "    transforms.Normalize(mean=CIFAR10_TRAIN_MEAN, std=CIFAR10_TRAIN_STD),\n",
    "    # TODO: add Fancy PCA in https://papers.nips.cc/paper/4824-imagenet-classification-with-deep-convolutional-neural-networks.pdf\n",
    "    # https://pixelatedbrian.github.io/2018-04-29-fancy_pca/\n",
    "    \n",
    "])\n",
    "test_transform = transforms.Compose([\n",
    "    transforms.Lambda(augmentHorizontalFlip),\n",
    "    transforms.Lambda(stackToTensor),\n",
    "    transforms.Lambda(stackNormalize),\n",
    "])\n",
    "\n",
    "train_dataset = datasets.CIFAR10(f\"{DATA_PATH}\", train=True, transform=train_transform, download=True)\n",
    "test_dataset = datasets.CIFAR10(f\"{DATA_PATH}\", train=False, transform=test_transform, download=True)\n",
    "\n",
    "# Train and validation split\n",
    "train_size = int(0.8 * len(train_dataset))\n",
    "val_size = len(train_dataset) - train_size\n",
    "train_dataset, val_dataset = torch.utils.data.random_split(train_dataset, [train_size, val_size])\n",
    "\n",
    "train_loader = DataLoader(dataset=train_dataset, batch_size=batch_size, shuffle=True)\n",
    "val_loader = DataLoader(dataset=val_dataset, batch_size=batch_size, shuffle=True)\n",
    "test_loader = DataLoader(dataset=test_dataset, batch_size=batch_size, shuffle=False)\n",
    "\n",
    "print(train_size, val_size, len(test_dataset))"
   ]
  },
  {
   "cell_type": "code",
   "execution_count": 5,
   "metadata": {},
   "outputs": [
    {
     "name": "stderr",
     "output_type": "stream",
     "text": [
      "Clipping input data to the valid range for imshow with RGB data ([0..1] for floats or [0..255] for integers).\n"
     ]
    },
    {
     "data": {
      "image/png": "[encoded data removed]",
      "text/plain": [
       "<Figure size 432x288 with 1 Axes>"
      ]
     },
     "metadata": {
      "needs_background": "light"
     },
     "output_type": "display_data"
    }
   ],
   "source": [
    "def imshow(img):\n",
    "    # img = img / 2 + 0.5  # Un-normalize your image here\n",
    "    npimg = img.numpy()\n",
    "    plt.imshow(np.transpose(npimg, (1,2,0)))\n",
    "    plt.show()\n",
    "\n",
    "dataiter = iter(train_loader)\n",
    "images, labels = dataiter.next()\n",
    "\n",
    "imshow(torchvision.utils.make_grid(images))"
   ]
  },
  {
   "cell_type": "code",
   "execution_count": 6,
   "metadata": {},
   "outputs": [],
   "source": [
    "from vggnet import VGGNet\n",
    "\n",
    "vggnet = VGGNet(\"vgg11\", num_classes=10).to(device)\n",
    "optim = torch.optim.Adam(vggnet.parameters(), lr=0.01)\n",
    "scheduler = torch.optim.lr_scheduler.ReduceLROnPlateau(optim, patience=5)\n",
    "criterion = torch.nn.CrossEntropyLoss()"
   ]
  },
  {
   "cell_type": "code",
   "execution_count": 7,
   "metadata": {},
   "outputs": [],
   "source": [
    "optim = torch.optim.Adam(vggnet.parameters(), lr=0.01)\n",
    "scheduler = torch.optim.lr_scheduler.ReduceLROnPlateau(optim, patience=2)"
   ]
  },
  {
   "cell_type": "code",
   "execution_count": 8,
   "metadata": {
    "scrolled": true
   },
   "outputs": [
    {
     "data": {
      "text/plain": [
       "VGGNet(\n",
       "  (net): Sequential(\n",
       "    (0): Conv2d(3, 64, kernel_size=(3, 3), stride=(1, 1), padding=(1, 1))\n",
       "    (1): ReLU()\n",
       "    (2): BatchNorm2d(64, eps=1e-05, momentum=0.1, affine=True, track_running_stats=True)\n",
       "    (3): MaxPool2d(kernel_size=2, stride=2, padding=0, dilation=1, ceil_mode=False)\n",
       "    (4): Conv2d(64, 128, kernel_size=(3, 3), stride=(1, 1), padding=(1, 1))\n",
       "    (5): ReLU()\n",
       "    (6): BatchNorm2d(128, eps=1e-05, momentum=0.1, affine=True, track_running_stats=True)\n",
       "    (7): MaxPool2d(kernel_size=2, stride=2, padding=0, dilation=1, ceil_mode=False)\n",
       "    (8): Conv2d(128, 256, kernel_size=(3, 3), stride=(1, 1), padding=(1, 1))\n",
       "    (9): ReLU()\n",
       "    (10): BatchNorm2d(256, eps=1e-05, momentum=0.1, affine=True, track_running_stats=True)\n",
       "    (11): Conv2d(256, 256, kernel_size=(3, 3), stride=(1, 1), padding=(1, 1))\n",
       "    (12): ReLU()\n",
       "    (13): BatchNorm2d(256, eps=1e-05, momentum=0.1, affine=True, track_running_stats=True)\n",
       "    (14): MaxPool2d(kernel_size=2, stride=2, padding=0, dilation=1, ceil_mode=False)\n",
       "    (15): Conv2d(256, 512, kernel_size=(3, 3), stride=(1, 1), padding=(1, 1))\n",
       "    (16): ReLU()\n",
       "    (17): BatchNorm2d(512, eps=1e-05, momentum=0.1, affine=True, track_running_stats=True)\n",
       "    (18): Conv2d(512, 512, kernel_size=(3, 3), stride=(1, 1), padding=(1, 1))\n",
       "    (19): ReLU()\n",
       "    (20): BatchNorm2d(512, eps=1e-05, momentum=0.1, affine=True, track_running_stats=True)\n",
       "    (21): MaxPool2d(kernel_size=2, stride=2, padding=0, dilation=1, ceil_mode=False)\n",
       "    (22): Conv2d(512, 512, kernel_size=(3, 3), stride=(1, 1), padding=(1, 1))\n",
       "    (23): ReLU()\n",
       "    (24): BatchNorm2d(512, eps=1e-05, momentum=0.1, affine=True, track_running_stats=True)\n",
       "    (25): Conv2d(512, 512, kernel_size=(3, 3), stride=(1, 1), padding=(1, 1))\n",
       "    (26): ReLU()\n",
       "    (27): BatchNorm2d(512, eps=1e-05, momentum=0.1, affine=True, track_running_stats=True)\n",
       "    (28): MaxPool2d(kernel_size=2, stride=2, padding=0, dilation=1, ceil_mode=False)\n",
       "  )\n",
       "  (classifier): Sequential(\n",
       "    (0): Dropout(p=0.5, inplace=False)\n",
       "    (1): Linear(in_features=512, out_features=512, bias=True)\n",
       "    (2): ReLU()\n",
       "    (3): Dropout(p=0.5, inplace=False)\n",
       "    (4): Linear(in_features=512, out_features=512, bias=True)\n",
       "    (5): ReLU()\n",
       "    (6): Linear(in_features=512, out_features=10, bias=True)\n",
       "  )\n",
       ")"
      ]
     },
     "execution_count": 8,
     "metadata": {},
     "output_type": "execute_result"
    }
   ],
   "source": [
    "vggnet"
   ]
  },
  {
   "cell_type": "code",
   "execution_count": 9,
   "metadata": {},
   "outputs": [
    {
     "name": "stdout",
     "output_type": "stream",
     "text": [
      "Model not found\n"
     ]
    }
   ],
   "source": [
    "import os.path\n",
    "\n",
    "MODEL_PATH = \"models/vgg.pth\"\n",
    "if os.path.isfile(MODEL_PATH):\n",
    "    print(\"Loading save model\")\n",
    "    if torch.cuda.is_available():\n",
    "        vggnet.load_state_dict(torch.load(MODEL_PATH))\n",
    "    else:\n",
    "        vggnet.load_state_dict(torch.load(MODEL_PATH,map_location=torch.device('cpu')))\n",
    "    print(\"Model loaded successfully\")\n",
    "else:\n",
    "    print(\"Model not found\")"
   ]
  },
  {
   "cell_type": "code",
   "execution_count": 10,
   "metadata": {
    "scrolled": true
   },
   "outputs": [
    {
     "name": "stdout",
     "output_type": "stream",
     "text": [
      "Epoch 1 LR = 0.01 Training Loss: 2.150211940765381, Validation Loss: 2.004382861328125, Time Taken: 29.81702756881714 \n",
      "Epoch 2 LR = 0.01 Training Loss: 1.7529760208129883, Validation Loss: 1.9144128784179688, Time Taken: 28.503824710845947 \n",
      "Epoch 3 LR = 0.01 Training Loss: 1.544345973968506, Validation Loss: 1.5146556610107422, Time Taken: 28.529999494552612 \n",
      "Epoch 4 LR = 0.01 Training Loss: 1.3994038124084474, Validation Loss: 1.3533577453613281, Time Taken: 28.471346616744995 \n",
      "Epoch 5 LR = 0.01 Training Loss: 1.2946496047973632, Validation Loss: 1.3184985626220702, Time Taken: 28.519888401031494 \n",
      "Epoch 6 LR = 0.01 Training Loss: 1.2681482650756837, Validation Loss: 1.4021765533447266, Time Taken: 28.521897554397583 \n",
      "Epoch 7 LR = 0.01 Training Loss: 1.2017884834289552, Validation Loss: 1.247019241333008, Time Taken: 28.512999296188354 \n",
      "Epoch 8 LR = 0.01 Training Loss: 1.0648924774169921, Validation Loss: 1.0842504043579102, Time Taken: 28.528998136520386 \n",
      "Epoch 9 LR = 0.01 Training Loss: 1.2762657066345215, Validation Loss: 1.7765309143066406, Time Taken: 28.505998611450195 \n",
      "Epoch 10 LR = 0.01 Training Loss: 1.4912426765441895, Validation Loss: 1.3459160186767578, Time Taken: 28.54599952697754 \n",
      "Epoch 11 LR = 0.01 Training Loss: 1.2534754375457764, Validation Loss: 1.2362376403808595, Time Taken: 28.50826334953308 \n",
      "Epoch 12 LR = 0.001 Training Loss: 1.0788441478729247, Validation Loss: 1.0369194519042968, Time Taken: 28.490642547607422 \n",
      "Epoch 13 LR = 0.001 Training Loss: 1.025302256011963, Validation Loss: 1.0075322021484374, Time Taken: 28.557300090789795 \n",
      "Epoch 14 LR = 0.001 Training Loss: 0.9943287441253662, Validation Loss: 0.9964379913330078, Time Taken: 28.494999170303345 \n",
      "Epoch 15 LR = 0.001 Training Loss: 0.9613370872497559, Validation Loss: 0.9684626441955566, Time Taken: 28.535998344421387 \n",
      "Epoch 16 LR = 0.001 Training Loss: 0.9462168483734131, Validation Loss: 0.9562771179199219, Time Taken: 28.496931552886963 \n",
      "Epoch 17 LR = 0.001 Training Loss: 0.939574919128418, Validation Loss: 0.9393777618408203, Time Taken: 28.472679615020752 \n",
      "Epoch 18 LR = 0.001 Training Loss: 0.9181096244812011, Validation Loss: 0.9255004364013671, Time Taken: 28.491355419158936 \n",
      "Epoch 19 LR = 0.001 Training Loss: 0.9479691753387451, Validation Loss: 0.9381726669311523, Time Taken: 28.534005165100098 \n",
      "Epoch 20 LR = 0.001 Training Loss: 0.8991185241699219, Validation Loss: 0.9235918304443359, Time Taken: 28.501006364822388 \n",
      "Epoch 21 LR = 0.001 Training Loss: 0.8686176551818847, Validation Loss: 0.9082451843261719, Time Taken: 28.492000102996826 \n",
      "Epoch 22 LR = 0.001 Training Loss: 0.8584505008697509, Validation Loss: 0.8792424118041993, Time Taken: 28.50325584411621 \n",
      "Epoch 23 LR = 0.001 Training Loss: 0.8477711288452149, Validation Loss: 0.9572917388916016, Time Taken: 28.513655424118042 \n",
      "Epoch 24 LR = 0.001 Training Loss: 0.8955788791656494, Validation Loss: 0.8965380065917968, Time Taken: 28.4979989528656 \n",
      "Epoch 25 LR = 0.001 Training Loss: 0.8483040718078614, Validation Loss: 0.8760718826293945, Time Taken: 28.50600838661194 \n",
      "Epoch 26 LR = 0.001 Training Loss: 0.8207880111694336, Validation Loss: 0.8804370574951171, Time Taken: 28.486998558044434 \n",
      "Epoch 27 LR = 0.001 Training Loss: 0.8133823078155518, Validation Loss: 0.8509112487792969, Time Taken: 28.51500678062439 \n",
      "Epoch 28 LR = 0.001 Training Loss: 0.8099116065979004, Validation Loss: 0.8408494689941406, Time Taken: 28.485962390899658 \n",
      "Epoch 29 LR = 0.001 Training Loss: 0.8157072540283203, Validation Loss: 0.8586583618164062, Time Taken: 28.494296550750732 \n",
      "Epoch 30 LR = 0.001 Training Loss: 0.7892617420196533, Validation Loss: 0.8345212203979492, Time Taken: 28.49954891204834 \n",
      "Epoch 31 LR = 0.001 Training Loss: 0.7758408882141113, Validation Loss: 0.821753231048584, Time Taken: 28.472778797149658 \n",
      "Epoch 32 LR = 0.001 Training Loss: 0.7532754177093506, Validation Loss: 0.8178901275634766, Time Taken: 28.463003635406494 \n",
      "Epoch 33 LR = 0.001 Training Loss: 0.7538180362701417, Validation Loss: 0.8231044555664062, Time Taken: 28.696422338485718 \n",
      "Epoch 34 LR = 0.001 Training Loss: 0.7460109493255616, Validation Loss: 0.7962072616577148, Time Taken: 28.480319261550903 \n",
      "Epoch 35 LR = 0.001 Training Loss: 0.7266603004455566, Validation Loss: 0.7819930099487304, Time Taken: 28.51591181755066 \n",
      "Epoch 36 LR = 0.001 Training Loss: 0.7272585559844971, Validation Loss: 0.8011202682495118, Time Taken: 28.548354387283325 \n",
      "Epoch 37 LR = 0.001 Training Loss: 0.7279901020050049, Validation Loss: 0.7931647277832031, Time Taken: 28.478999614715576 \n",
      "Epoch 38 LR = 0.001 Training Loss: 0.7089346649169922, Validation Loss: 0.777302114868164, Time Taken: 28.49393391609192 \n",
      "Epoch 39 LR = 0.001 Training Loss: 0.7146935653686524, Validation Loss: 0.7793483169555664, Time Taken: 28.858996152877808 \n",
      "Epoch 40 LR = 0.001 Training Loss: 0.6911058475494385, Validation Loss: 0.7500744270324707, Time Taken: 28.549003839492798 \n",
      "Epoch 41 LR = 0.001 Training Loss: 0.6785127952575684, Validation Loss: 0.7423063293457032, Time Taken: 28.451990365982056 \n",
      "Epoch 42 LR = 0.001 Training Loss: 0.6700474620819091, Validation Loss: 0.7609833526611328, Time Taken: 28.47099995613098 \n",
      "Epoch 43 LR = 0.001 Training Loss: 0.6615657529830933, Validation Loss: 0.7594959442138672, Time Taken: 28.532335996627808 \n",
      "Epoch 44 LR = 0.001 Training Loss: 0.6478336427688599, Validation Loss: 0.7447655120849609, Time Taken: 28.625001192092896 \n",
      "Epoch 45 LR = 0.0001 Training Loss: 0.6269956771850586, Validation Loss: 0.7387537887573242, Time Taken: 28.534998416900635 \n",
      "Epoch 46 LR = 0.0001 Training Loss: 0.6097665700912476, Validation Loss: 0.7347533798217774, Time Taken: 28.488998651504517 \n",
      "Epoch 47 LR = 0.0001 Training Loss: 0.6100366468429566, Validation Loss: 16.46081722946167, Time Taken: 28.52402091026306 \n",
      "Epoch 48 LR = 0.0001 Training Loss: 0.6086378902435303, Validation Loss: 0.7116602409362793, Time Taken: 28.636992931365967 \n",
      "Epoch 49 LR = 0.0001 Training Loss: 0.6082530836105347, Validation Loss: 0.7195892890930176, Time Taken: 28.486106395721436 \n",
      "Epoch 50 LR = 0.0001 Training Loss: 0.5987242189407349, Validation Loss: 0.7433667205810547, Time Taken: 28.49141812324524 \n",
      "Training concluded\n"
     ]
    }
   ],
   "source": [
    "# Training code\n",
    "\n",
    "import time\n",
    "num_epochs = 50\n",
    "for epoch in range(num_epochs):\n",
    "    print(f\"Epoch {epoch + 1} \", end=\"\")\n",
    "    \n",
    "    for param_group in optim.param_groups:\n",
    "        print(f\"LR = {param_group['lr']} \", end=\"\")\n",
    "    if epoch % 5 == 4:\n",
    "        torch.save(vggnet.state_dict(), f\"models/vgg.pth\")\n",
    "    \n",
    "    running_loss = 0.0\n",
    "    t0 = time.time()\n",
    "    vggnet.train()\n",
    "    for i, data in enumerate((train_loader)):\n",
    "        # Switch to training mode\n",
    "        \n",
    "        inputs, labels = data\n",
    "        inputs = inputs.to(device)\n",
    "        labels = labels.to(device)\n",
    "        optim.zero_grad()\n",
    "        outputs = vggnet(inputs)\n",
    "        \n",
    "        # Backwards propagation\n",
    "        loss = criterion(outputs, labels)\n",
    "        loss.backward()\n",
    "        optim.step()\n",
    "        \n",
    "        running_loss += loss.item()\n",
    "    \n",
    "    \n",
    "    val_loss = 0.0\n",
    "    with torch.no_grad():\n",
    "        vggnet.eval()\n",
    "        for i,data in enumerate(val_loader):\n",
    "            \n",
    "            inputs, labels = data\n",
    "            inputs = inputs.to(device)\n",
    "            labels = labels.to(device)\n",
    "            optim.zero_grad()\n",
    "            outputs = vggnet(inputs)\n",
    "            # Backwards propagation\n",
    "            loss = criterion(outputs, labels)\n",
    "\n",
    "            val_loss += loss.item()\n",
    "        \n",
    "        prev_val_loss = val_loss\n",
    "        t1 = time.time()\n",
    "        time_total = t1-t0\n",
    "    avg_val_loss = val_loss / (val_size/batch_size)\n",
    "    avg_training_loss = running_loss / (train_size/batch_size)\n",
    "    scheduler.step(avg_val_loss)\n",
    "    print(f\"Training Loss: {avg_training_loss}, Validation Loss: {avg_val_loss}, Time Taken: {time_total} \")\n",
    "\n",
    "        \n",
    "print(\"Training concluded\")\n"
   ]
  },
  {
   "cell_type": "code",
   "execution_count": 11,
   "metadata": {},
   "outputs": [
    {
     "data": {
      "application/vnd.jupyter.widget-view+json": {
       "model_id": "6e2faad5dd554b2f9e2887cd9e6232da",
       "version_major": 2,
       "version_minor": 0
      },
      "text/plain": [
       "VBox(children=(HTML(value=''), IntProgress(value=0, max=40)))"
      ]
     },
     "metadata": {},
     "output_type": "display_data"
    },
    {
     "name": "stdout",
     "output_type": "stream",
     "text": [
      "Accuracy of the network on the test images: 77 %\n"
     ]
    }
   ],
   "source": [
    "#TODO: Test model\n",
    "vggnet.eval()\n",
    "\n",
    "total = 0\n",
    "correct = 0\n",
    "with torch.no_grad():\n",
    "    for data in log_progress(test_loader):\n",
    "        inputs, labels = data\n",
    "        bs, n_img, c, h, w = inputs.size()\n",
    "        inputs = inputs.view(-1, c, h, w).to(device)\n",
    "        labels = labels.to(device)\n",
    "        \n",
    "        outputs = vggnet(inputs)\n",
    "        # outputs = torch.mean(outputs, dim=[2,3])\n",
    "        outputs = outputs.view(bs, n_img, -1).mean(1)\n",
    "        _, predicted = torch.max(outputs.data, 1)\n",
    "        total += labels.size(0)\n",
    "        correct += (predicted == labels).sum().item()\n",
    "\n",
    "print('Accuracy of the network on the test images: %d %%' % (100 * correct / total))"
   ]
  },
  {
   "cell_type": "code",
   "execution_count": null,
   "metadata": {},
   "outputs": [],
   "source": []
  }
 ],
 "metadata": {
  "file_extension": ".py",
  "kernelspec": {
   "display_name": "Python 3",
   "language": "python",
   "name": "python3"
  },
  "language_info": {
   "codemirror_mode": {
    "name": "ipython",
    "version": 3
   },
   "file_extension": ".py",
   "mimetype": "text/x-python",
   "name": "python",
   "nbconvert_exporter": "python",
   "pygments_lexer": "ipython3",
   "version": "3.7.1"
  },
  "mimetype": "text/x-python",
  "name": "python",
  "npconvert_exporter": "python",
  "pygments_lexer": "ipython3",
  "version": 3
 },
 "nbformat": 4,
 "nbformat_minor": 2
}
